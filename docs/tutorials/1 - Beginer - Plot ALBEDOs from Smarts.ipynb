{
 "cells": [
  {
   "cell_type": "markdown",
   "metadata": {},
   "source": [
    "# 1 - Beginner - Plot Spectra and Albedos from SMARTS\n",
    "\n",
    "##### Generate & Plot Spectra and Albedos from SMARTS\n",
    "###### &ensp;&ensp;&ensp;&ensp; * 1. DNI and DHI for a particular time and location\n",
    "###### &ensp;&ensp;&ensp;&ensp; * 2. Ground Albedo for various materials at AM 1.5\n",
    "###### &ensp;&ensp;&ensp;&ensp; * 3. Ground Albedo for complete AOD and PWD Weather Data\n"
   ]
  },
  {
   "cell_type": "code",
   "execution_count": 1,
   "metadata": {},
   "outputs": [],
   "source": [
    "import numpy as np\n",
    "import pandas as pd\n",
    "import matplotlib.pyplot as plt\n",
    "from matplotlib import style\n",
    "import pvlib\n",
    "import datetime\n",
    "import pprint\n",
    "import os"
   ]
  },
  {
   "cell_type": "code",
   "execution_count": 2,
   "metadata": {},
   "outputs": [],
   "source": [
    "plt.rcParams['timezone'] = 'Etc/GMT+7'\n",
    "font = {'family' : 'DejaVu Sans',\n",
    "'weight' : 'normal',\n",
    "'size'   : 18}\n",
    "plt.rc('font', **font)\n",
    "plt.rcParams['figure.figsize'] = (12, 5)\n"
   ]
  },
  {
   "cell_type": "code",
   "execution_count": 3,
   "metadata": {},
   "outputs": [],
   "source": [
    "import pySMARTS"
   ]
  },
  {
   "cell_type": "code",
   "execution_count": 4,
   "metadata": {},
   "outputs": [
    {
     "data": {
      "text/plain": [
       "''"
      ]
     },
     "execution_count": 4,
     "metadata": {},
     "output_type": "execute_result"
    }
   ],
   "source": [
    "pySMARTS.__version__"
   ]
  },
  {
   "cell_type": "markdown",
   "metadata": {},
   "source": [
    "#### Real Input data from SRRL for OCTOBER 21st, 12:45 PM"
   ]
  },
  {
   "cell_type": "markdown",
   "metadata": {},
   "source": [
    "# 1. Plot a DNI and DHI for a particular time and location\n"
   ]
  },
  {
   "cell_type": "code",
   "execution_count": 22,
   "metadata": {},
   "outputs": [],
   "source": [
    "IOUT = '2 3' # DNI and DHI"
   ]
  },
  {
   "cell_type": "code",
   "execution_count": 21,
   "metadata": {},
   "outputs": [
    {
     "name": "stdout",
     "output_type": "stream",
     "text": [
      "Could not find SMARTS2 executable.\n"
     ]
    }
   ],
   "source": [
    "YEAR = '2021'\n",
    "MONTH = '06'\n",
    "DAY = '21'\n",
    "HOUR = '12'\n",
    "LATIT = '33'\n",
    "LONGIT = '110'\n",
    "ALTIT = '0.9' # km above sea level\n",
    "ZONE = '-7' # Timezone"
   ]
  },
  {
   "cell_type": "code",
   "execution_count": null,
   "metadata": {},
   "outputs": [],
   "source": [
    "pySMARTS.SMARTSTimeLocation(IOUT,YEAR,MONTH,DAY,HOUR, LATIT, LONGIT, ALTIT, ZONE)\n"
   ]
  },
  {
   "cell_type": "markdown",
   "metadata": {},
   "source": [
    "# 2. Plot Albedos from SMARTS"
   ]
  },
  {
   "cell_type": "code",
   "execution_count": 16,
   "metadata": {},
   "outputs": [],
   "source": [
    "IOUT = '30' # Albedo"
   ]
  },
  {
   "cell_type": "markdown",
   "metadata": {},
   "source": [
    "#### Plot Ground Albedo AM 1.0"
   ]
  },
  {
   "cell_type": "code",
   "execution_count": null,
   "metadata": {},
   "outputs": [],
   "source": [
    "materials = ['Concrete', 'LiteLoam', 'RConcrte', 'Gravel']\n",
    "\n",
    "alb_db = pd.DataFrame()\n",
    "\n",
    "for i in range (0, len(materials)):\n",
    "\n",
    "    alb = pySMARTS.SMARTSAirMass(IOUT=IOUT, AMASS='1.5', material=materials[i])\n",
    "\n",
    "    alb_db[materials[i]] = alb[alb.keys()[1]]\n",
    "    \n",
    "alb_db.index = alb.Wvlgth\n",
    "\n",
    "alb_db_10 = alb_db\n",
    "\n",
    "for col in alb_db:\n",
    "    alb_db[col].plot(legend=True)\n",
    "    \n",
    "plt.xlabel('Wavelength [nm]')\n",
    "plt.xlim([300, 2500])\n",
    "plt.axhline(y=0.084, color='r')\n",
    "plt.axhline(y=0.10, color='r')\n",
    "\n",
    "#UV albedo: 295 to 385\n",
    "#Total albedo: 300 to 3000\n",
    "#10.4 and 8.4 $ Measured\n",
    "#References\n",
    "\n",
    "plt.ylim([0,1])\n",
    "plt.ylabel('Reflectance')\n",
    "plt.legend(bbox_to_anchor=(1.04,0.75), loc=\"upper left\")\n",
    "plt.title('Ground albedos AM 1')\n",
    "plt.show()\n",
    "\n",
    "vis=alb_db.iloc[40:1801].mean()\n",
    "uv=alb_db.iloc[30:210].mean()\n",
    "\n",
    "print(vis)\n",
    "print(uv)"
   ]
  },
  {
   "cell_type": "markdown",
   "metadata": {},
   "source": [
    "## Extra: Averaging Albedos for Visible and UV\n"
   ]
  },
  {
   "cell_type": "code",
   "execution_count": null,
   "metadata": {},
   "outputs": [],
   "source": [
    "vis=alb_db.iloc[40:1801].mean()\n",
    "uv=alb_db.iloc[30:210].mean()\n",
    "print(\"Albedo on Visible Range:\\n\", vis)\n",
    "print(\"Albedo on UV Range:\\n\", uv)"
   ]
  },
  {
   "cell_type": "markdown",
   "metadata": {},
   "source": [
    "<div class=\"alert alert-block alert-info\"><b>Tip: </b> If you want full spectrum averages, we recommend interpolating as the default granularity of SMARTS at higher wavelengths is not the same than at lower wavelengths, thus the 'step' is not the same. </div>\n"
   ]
  },
  {
   "cell_type": "code",
   "execution_count": 68,
   "metadata": {},
   "outputs": [],
   "source": [
    "r = pd.RangeIndex(2800,40000, 5)\n",
    "r = r/10\n",
    "alb2 = alb_db.reindex(r, method='ffill')\n",
    "print(\"Albedo for all wavelengths:\", alb2.mean())"
   ]
  },
  {
   "cell_type": "code",
   "execution_count": 74,
   "metadata": {},
   "outputs": [],
   "source": [
    "# FYI: Wavelengths corresponding to the albedo before and after interpolating\n",
    "\"\"\"\n",
    "# Visible\n",
    "alb_db.iloc[40] # 300\n",
    "alb_db.iloc[1801] # 3000\n",
    "\n",
    "# UV\n",
    "alb_db.iloc[30] # 295\n",
    "alb_db.iloc[210] # 385        \n",
    "\n",
    "# Visible\n",
    "alb2.iloc[40] # 300\n",
    "alb2.iloc[5440] # 3000\n",
    "\n",
    "# UV\n",
    "alb2.iloc[30] # 295\n",
    "alb2.iloc[210] # 385   \n",
    "\"\"\""
   ]
  },
  {
   "cell_type": "markdown",
   "metadata": {},
   "source": [
    "# 3. ADVANCED: Plot Ground Albedo for More Complete Weather Data\n",
    "\n",
    "#### This asumes you know a lot more parameters about your weather data souch as: Broadband Turbidity, Aeorsol Opticla Density parameters, and Precipitable Water. \n"
   ]
  },
  {
   "cell_type": "markdown",
   "metadata": {},
   "source": [
    "###  Real Input data from SRRL for OCTOBER 21st, 12:45 PM"
   ]
  },
  {
   "cell_type": "code",
   "execution_count": 7,
   "metadata": {},
   "outputs": [],
   "source": [
    "alb = 0.2205\n",
    "YEAR='2020'; MONTH='10'; DAY='21'; HOUR = '12.75' \n",
    "LATIT='39.74'; LONGIT='-105.17'; ALTIT='1.0'; ZONE='-7'\n",
    "TILT='33.0';  WAZIM='180.0'; HEIGHT='0' \n",
    "material='DryGrass'\n",
    "min_wvl='280'; Max_wvl='4000'\n",
    "\n",
    "TAIR = '20.3'\n",
    "RH = '2.138'\n",
    "SEASON = 'WINTER'\n",
    "TDAY = '12.78'\n",
    "SPR = '810.406'\n",
    "RHOG = '0.2205'\n",
    "\n",
    "WAZIMtracker = '270'\n",
    "TILTtracker = '23.37'\n",
    "tracker_tetha_bifrad = '-23.37'\n",
    "\n",
    "TAU5='0.18422'     # SRRL-GRAL \"Broadband Turbidity\"\n",
    "TAU5 = '0.037'    # SRRL-AOD [500nm]\n",
    "GG = '0.7417'     # SSRL-AOD Asymmetry [500nm]\n",
    "BETA = '0.0309'   # SRRL-AOD Beta\n",
    "ALPHA = '0.1949'  # SRRL-AOD Alpha [Angstrom exp]\n",
    "OMEGL = '0.9802'  # SRRL-AOD SSA [500nm]\n",
    "W = str(7.9/10)   # SRRL-PWD  Precipitable Water [mm]"
   ]
  },
  {
   "cell_type": "code",
   "execution_count": 8,
   "metadata": {},
   "outputs": [
    {
     "data": {
      "image/png": "[encoded data removed]",
      "text/plain": [
       "<Figure size 864x360 with 1 Axes>"
      ]
     },
     "metadata": {
      "needs_background": "light"
     },
     "output_type": "display_data"
    }
   ],
   "source": [
    "material = 'DryGrass'\n",
    "\n",
    "alb_db = pd.DataFrame()\n",
    "\n",
    "alb = pySMARTS.SMARTSSRRL(\n",
    "    IOUT=IOUT, YEAR=YEAR, MONTH=MONTH,DAY=DAY, HOUR='12.45', LATIT=LATIT, \n",
    "    LONGIT=LONGIT, ALTIT=ALTIT, \n",
    "    ZONE=ZONE, W=W, RH=RH, TAIR=TAIR, \n",
    "    SEASON=SEASON, TDAY=TDAY, TAU5=None, SPR=SPR, \n",
    "    TILT=TILT, WAZIM=WAZIM,\n",
    "    ALPHA1 = ALPHA, ALPHA2 = 0, OMEGL = OMEGL,\n",
    "    GG = GG, BETA = BETA,\n",
    "    RHOG=RHOG, HEIGHT=HEIGHT, material=material, POA = True)\n",
    "\n",
    "alb_db[material] = alb[alb.keys()[1]]   \n",
    "alb_db.index = alb.Wvlgth\n"
   ]
  },
  {
   "cell_type": "code",
   "execution_count": null,
   "metadata": {},
   "outputs": [],
   "source": [
    "alb_db[material].plot(legend=True, color='y')\n",
    "plt.xlabel('Wavelength [nm]')\n",
    "plt.xlim([300, 2500])\n",
    "plt.ylim([0,1])\n",
    "plt.ylabel('Reflectance')\n",
    "plt.legend(bbox_to_anchor=(1.04,0.75), loc=\"upper left\")\n",
    "plt.title('Albedo @ 12.45 Oct 21, 2020 for SRRL Weather Data ')\n",
    "plt.show()\n"
   ]
  },
  {
   "cell_type": "markdown",
   "metadata": {},
   "source": [
    "### A plotly plot to explore the results"
   ]
  },
  {
   "cell_type": "code",
   "execution_count": 24,
   "metadata": {},
   "outputs": [],
   "source": [
    "import plotly.express as px"
   ]
  },
  {
   "cell_type": "code",
   "execution_count": null,
   "metadata": {},
   "outputs": [],
   "source": [
    "fig = px.line(alb_db[material], title='Albedo @ 12.45 Oct 21, 2020 for SRRL Weather Data')\n",
    "\n",
    "fig.update_layout(xaxis_title='Wavelength [nm]',\n",
    "                  yaxis_title='Reflectance')\n",
    "fig.show()\n"
   ]
  }
 ],
 "metadata": {
  "kernelspec": {
   "display_name": "Python 3 (ipykernel)",
   "language": "python",
   "name": "python3"
  },
  "language_info": {
   "codemirror_mode": {
    "name": "ipython",
    "version": 3
   },
   "file_extension": ".py",
   "mimetype": "text/x-python",
   "name": "python",
   "nbconvert_exporter": "python",
   "pygments_lexer": "ipython3",
   "version": "3.8.8"
  }
 },
 "nbformat": 4,
 "nbformat_minor": 2
}
